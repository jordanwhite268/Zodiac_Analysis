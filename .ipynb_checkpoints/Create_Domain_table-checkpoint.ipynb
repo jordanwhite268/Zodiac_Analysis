{
 "cells": [
  {
   "cell_type": "code",
   "execution_count": 3,
   "id": "3e2cda00",
   "metadata": {},
   "outputs": [
    {
     "name": "stdout",
     "output_type": "stream",
     "text": [
      "            domain           industry     occupation\n",
      "0     INSTITUTIONS         GOVERNMENT     POLITICIAN\n",
      "1       HUMANITIES           LANGUAGE         WRITER\n",
      "2           SPORTS  INDIVIDUAL SPORTS  TENNIS PLAYER\n",
      "3       HUMANITIES           LANGUAGE         WRITER\n",
      "4             ARTS   FILM AND THEATRE  FILM DIRECTOR\n",
      "...            ...                ...            ...\n",
      "8862  INSTITUTIONS         GOVERNMENT     POLITICIAN\n",
      "8863  INSTITUTIONS         GOVERNMENT     POLITICIAN\n",
      "8864        SPORTS  INDIVIDUAL SPORTS  TENNIS PLAYER\n",
      "8865    HUMANITIES            HISTORY      HISTORIAN\n",
      "8866    HUMANITIES           LANGUAGE         WRITER\n",
      "\n",
      "[8867 rows x 3 columns]\n"
     ]
    }
   ],
   "source": [
    "import pandas as pd\n",
    "import sqlite3\n",
    "\n",
    "# Read sqlite query results into a pandas DataFrame\n",
    "con = sqlite3.connect(\"Zodiac_Analysis.db\")\n",
    "df = pd.read_sql_query(\"SELECT domain, industry, occupation FROM pantheon_people_import;\", con)\n",
    "\n",
    "# Verify that result of SQL query is stored in the dataframe\n",
    "print(df)\n",
    "\n",
    "con.close()"
   ]
  },
  {
   "cell_type": "code",
   "execution_count": null,
   "id": "c3755807",
   "metadata": {},
   "outputs": [],
   "source": []
  }
 ],
 "metadata": {
  "kernelspec": {
   "display_name": "Python 3 (ipykernel)",
   "language": "python",
   "name": "python3"
  },
  "language_info": {
   "codemirror_mode": {
    "name": "ipython",
    "version": 3
   },
   "file_extension": ".py",
   "mimetype": "text/x-python",
   "name": "python",
   "nbconvert_exporter": "python",
   "pygments_lexer": "ipython3",
   "version": "3.11.5"
  }
 },
 "nbformat": 4,
 "nbformat_minor": 5
}
